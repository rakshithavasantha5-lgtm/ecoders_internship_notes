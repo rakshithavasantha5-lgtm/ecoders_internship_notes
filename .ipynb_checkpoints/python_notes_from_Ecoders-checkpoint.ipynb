{
 "cells": [
  {
   "cell_type": "markdown",
   "id": "e6ee2f30-571a-48ae-b7ca-cda20e8e81ca",
   "metadata": {},
   "source": [
    "Ecoders python notes"
   ]
  },
  {
   "cell_type": "code",
   "execution_count": 2,
   "id": "04fec8f2-2434-4ab6-9cd0-9dd541ff4b36",
   "metadata": {},
   "outputs": [
    {
     "name": "stdout",
     "output_type": "stream",
     "text": [
      "3\n",
      "3.23\n",
      "a\n",
      "Hello world of ecoders\n",
      "True\n",
      "False\n"
     ]
    }
   ],
   "source": [
    "# literals  - types or varibles \n",
    "\n",
    "# 4 types of literals. \n",
    "\n",
    "print(3)\n",
    "\n",
    "print(3.23)\n",
    "\n",
    "print('a')\n",
    "\n",
    "print(\"Hello world of ecoders\")\n",
    "\n",
    "print(True)\n",
    "\n",
    "print(False) "
   ]
  },
  {
   "cell_type": "code",
   "execution_count": 4,
   "id": "95ee2d62-86b2-4931-9dba-ad137f02bd4c",
   "metadata": {},
   "outputs": [
    {
     "name": "stdout",
     "output_type": "stream",
     "text": [
      "9\n",
      "5\n",
      "14\n",
      "49\n",
      "3.5\n",
      "3\n",
      "1\n"
     ]
    }
   ],
   "source": [
    "a = 7\n",
    "b = 2\n",
    "\n",
    "print(a+b)\n",
    "\n",
    "print(a-b)\n",
    "\n",
    "print(a*b)\n",
    "\n",
    "print(a**b)\n",
    "\n",
    "print(a/b)\n",
    "\n",
    "print(a//b)\n",
    "\n",
    "print(a%b)"
   ]
  },
  {
   "cell_type": "markdown",
   "id": "b381175a-6925-4b4c-ac53-1add875076f3",
   "metadata": {},
   "source": [
    "relational operators\n",
    "\n"
   ]
  },
  {
   "cell_type": "code",
   "execution_count": 5,
   "id": "26337b16-faa8-436c-b39d-dd1e7566f10e",
   "metadata": {},
   "outputs": [
    {
     "name": "stdout",
     "output_type": "stream",
     "text": [
      "False\n",
      "False\n",
      "True\n",
      "True\n"
     ]
    }
   ],
   "source": [
    "a = 7 \n",
    "b = 2\n",
    "c = 7 \n",
    "\n",
    "print(a<b)\n",
    "print(a==b)\n",
    "print(a == c )\n",
    "print(a >= b)"
   ]
  },
  {
   "cell_type": "markdown",
   "id": "2515c9f6-c079-43da-abd0-79532bfffc93",
   "metadata": {},
   "source": [
    "#Conditional Statements"
   ]
  },
  {
   "cell_type": "code",
   "execution_count": 7,
   "id": "bf5b71bd-e244-4113-a59e-4fcbcfc2f75f",
   "metadata": {},
   "outputs": [
    {
     "name": "stdout",
     "output_type": "stream",
     "text": [
      "Access denied\n"
     ]
    }
   ],
   "source": [
    "name = \"rakshitha\"\n",
    "\n",
    "if(name == \"rakshitha\"):\n",
    "    print(\"Access granted\")\n",
    "else:\n",
    "    print(\"Access denied\")\n"
   ]
  },
  {
   "cell_type": "code",
   "execution_count": null,
   "id": "77362bf9-6bad-478d-8398-1e183dbc1a42",
   "metadata": {},
   "outputs": [],
   "source": []
  }
 ],
 "metadata": {
  "kernelspec": {
   "display_name": "Python [conda env:base] *",
   "language": "python",
   "name": "conda-base-py"
  },
  "language_info": {
   "codemirror_mode": {
    "name": "ipython",
    "version": 3
   },
   "file_extension": ".py",
   "mimetype": "text/x-python",
   "name": "python",
   "nbconvert_exporter": "python",
   "pygments_lexer": "ipython3",
   "version": "3.13.5"
  }
 },
 "nbformat": 4,
 "nbformat_minor": 5
}
