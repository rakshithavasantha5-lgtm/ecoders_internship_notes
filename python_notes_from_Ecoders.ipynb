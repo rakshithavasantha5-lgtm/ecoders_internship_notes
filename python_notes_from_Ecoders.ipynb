{
 "cells": [
  {
   "cell_type": "markdown",
   "id": "e6ee2f30-571a-48ae-b7ca-cda20e8e81ca",
   "metadata": {},
   "source": [
    "Ecoders python notes"
   ]
  },
  {
   "cell_type": "code",
   "execution_count": 2,
   "id": "04fec8f2-2434-4ab6-9cd0-9dd541ff4b36",
   "metadata": {},
   "outputs": [
    {
     "name": "stdout",
     "output_type": "stream",
     "text": [
      "3\n",
      "3.23\n",
      "a\n",
      "Hello world of ecoders\n",
      "True\n",
      "False\n"
     ]
    }
   ],
   "source": [
    "# literals  - types or varibles \n",
    "\n",
    "# 4 types of literals. \n",
    "\n",
    "print(3)\n",
    "\n",
    "print(3.23)\n",
    "\n",
    "print('a')\n",
    "\n",
    "print(\"Hello world of ecoders\")\n",
    "\n",
    "print(True)\n",
    "\n",
    "print(False) "
   ]
  },
  {
   "cell_type": "code",
   "execution_count": null,
   "id": "95ee2d62-86b2-4931-9dba-ad137f02bd4c",
   "metadata": {},
   "outputs": [],
   "source": []
  }
 ],
 "metadata": {
  "kernelspec": {
   "display_name": "Python [conda env:base] *",
   "language": "python",
   "name": "conda-base-py"
  },
  "language_info": {
   "codemirror_mode": {
    "name": "ipython",
    "version": 3
   },
   "file_extension": ".py",
   "mimetype": "text/x-python",
   "name": "python",
   "nbconvert_exporter": "python",
   "pygments_lexer": "ipython3",
   "version": "3.13.5"
  }
 },
 "nbformat": 4,
 "nbformat_minor": 5
}
