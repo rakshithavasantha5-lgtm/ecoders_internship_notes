{
 "cells": [
  {
   "cell_type": "markdown",
   "id": "e6ee2f30-571a-48ae-b7ca-cda20e8e81ca",
   "metadata": {},
   "source": [
    "Ecoders python notes"
   ]
  },
  {
   "cell_type": "code",
   "execution_count": 2,
   "id": "04fec8f2-2434-4ab6-9cd0-9dd541ff4b36",
   "metadata": {},
   "outputs": [
    {
     "name": "stdout",
     "output_type": "stream",
     "text": [
      "3\n",
      "3.23\n",
      "a\n",
      "Hello world of ecoders\n",
      "True\n",
      "False\n"
     ]
    }
   ],
   "source": [
    "# literals  - types or varibles \n",
    "\n",
    "# 4 types of literals. \n",
    "\n",
    "print(3)\n",
    "\n",
    "print(3.23)\n",
    "\n",
    "print('a')\n",
    "\n",
    "print(\"Hello world of ecoders\")\n",
    "\n",
    "print(True)\n",
    "\n",
    "print(False) "
   ]
  },
  {
   "cell_type": "code",
   "execution_count": 4,
   "id": "95ee2d62-86b2-4931-9dba-ad137f02bd4c",
   "metadata": {},
   "outputs": [
    {
     "name": "stdout",
     "output_type": "stream",
     "text": [
      "9\n",
      "5\n",
      "14\n",
      "49\n",
      "3.5\n",
      "3\n",
      "1\n"
     ]
    }
   ],
   "source": [
    "a = 7\n",
    "b = 2\n",
    "\n",
    "print(a+b)\n",
    "\n",
    "print(a-b)\n",
    "\n",
    "print(a*b)\n",
    "\n",
    "print(a**b)\n",
    "\n",
    "print(a/b)\n",
    "\n",
    "print(a//b)\n",
    "\n",
    "print(a%b)"
   ]
  },
  {
   "cell_type": "markdown",
   "id": "b381175a-6925-4b4c-ac53-1add875076f3",
   "metadata": {},
   "source": [
    "relational operators\n",
    "\n"
   ]
  },
  {
   "cell_type": "code",
   "execution_count": 5,
   "id": "26337b16-faa8-436c-b39d-dd1e7566f10e",
   "metadata": {},
   "outputs": [
    {
     "name": "stdout",
     "output_type": "stream",
     "text": [
      "False\n",
      "False\n",
      "True\n",
      "True\n"
     ]
    }
   ],
   "source": [
    "a = 7 \n",
    "b = 2\n",
    "c = 7 \n",
    "\n",
    "print(a<b)\n",
    "print(a==b)\n",
    "print(a == c )\n",
    "print(a >= b)"
   ]
  },
  {
   "cell_type": "markdown",
   "id": "2515c9f6-c079-43da-abd0-79532bfffc93",
   "metadata": {},
   "source": [
    "#Conditional Statements"
   ]
  },
  {
   "cell_type": "code",
   "execution_count": 7,
   "id": "bf5b71bd-e244-4113-a59e-4fcbcfc2f75f",
   "metadata": {},
   "outputs": [
    {
     "name": "stdout",
     "output_type": "stream",
     "text": [
      "Access denied\n"
     ]
    }
   ],
   "source": [
    "name = \"rakshitha\"\n",
    "\n",
    "if(name == \"rakshitha\"):\n",
    "    print(\"Access granted\")\n",
    "else:\n",
    "    print(\"Access denied\")\n"
   ]
  },
  {
   "cell_type": "markdown",
   "id": "89e86a0d-ff4a-4d07-bc79-4b5447144e85",
   "metadata": {},
   "source": [
    "# break and continue "
   ]
  },
  {
   "cell_type": "code",
   "execution_count": 8,
   "id": "7aacb5fb-039d-4e22-842d-cf467ee41b63",
   "metadata": {},
   "outputs": [],
   "source": [
    "# print first 10 natural numbers. "
   ]
  },
  {
   "cell_type": "code",
   "execution_count": 9,
   "id": "b363e161-2abd-4bea-811a-55aca64b8b44",
   "metadata": {},
   "outputs": [
    {
     "name": "stdout",
     "output_type": "stream",
     "text": [
      "1 2 3 4 5 6 7 8 9 10 "
     ]
    }
   ],
   "source": [
    "for i in range(1, 11):\n",
    "    print(i, end =\" \")"
   ]
  },
  {
   "cell_type": "code",
   "execution_count": 10,
   "id": "e8e5709c-eff7-43ae-847a-6a09095574e7",
   "metadata": {},
   "outputs": [
    {
     "name": "stdout",
     "output_type": "stream",
     "text": [
      "10, 9, 8, 7, 6, 5, 4, 3, 2, 1, "
     ]
    }
   ],
   "source": [
    "for i in range(10, 0, -1):\n",
    "    print(i, end=\", \")"
   ]
  },
  {
   "cell_type": "code",
   "execution_count": 11,
   "id": "f9c3457c-6f73-429a-8a29-b4a4914f564f",
   "metadata": {},
   "outputs": [
    {
     "name": "stdout",
     "output_type": "stream",
     "text": [
      "1\n",
      "4\n",
      "9\n",
      "16\n",
      "25\n",
      "36\n",
      "49\n",
      "64\n",
      "81\n",
      "100\n"
     ]
    }
   ],
   "source": [
    "for i in range(1,11):\n",
    "    print(i*i) "
   ]
  },
  {
   "cell_type": "code",
   "execution_count": 12,
   "id": "26612f9c-8f73-40c9-8c28-284c00288cfb",
   "metadata": {},
   "outputs": [
    {
     "name": "stdout",
     "output_type": "stream",
     "text": [
      "1\n",
      "8\n",
      "27\n",
      "64\n",
      "125\n",
      "216\n",
      "343\n",
      "512\n",
      "729\n",
      "1000\n"
     ]
    }
   ],
   "source": [
    "for i in range(1,11):\n",
    "    print(i*i*i)"
   ]
  },
  {
   "cell_type": "code",
   "execution_count": 13,
   "id": "f5ebd968-6655-4c6e-aab9-28ef7dcfc68f",
   "metadata": {},
   "outputs": [
    {
     "name": "stdout",
     "output_type": "stream",
     "text": [
      "2\n",
      "4\n",
      "6\n",
      "8\n",
      "10\n",
      "12\n",
      "14\n",
      "16\n",
      "18\n",
      "20\n"
     ]
    }
   ],
   "source": [
    "for i in range(1, 11):\n",
    "    print(2*i)"
   ]
  },
  {
   "cell_type": "code",
   "execution_count": 14,
   "id": "a44c7163-1655-49f2-8296-6aa7134cc1a9",
   "metadata": {},
   "outputs": [
    {
     "name": "stdout",
     "output_type": "stream",
     "text": [
      "1\n",
      "3\n",
      "5\n",
      "7\n",
      "9\n",
      "11\n",
      "13\n",
      "15\n",
      "17\n",
      "19\n"
     ]
    }
   ],
   "source": [
    "for i in range(1,11):\n",
    "    print(2*i-1)"
   ]
  },
  {
   "cell_type": "code",
   "execution_count": 15,
   "id": "61194ed4-9382-4823-9aac-853951787659",
   "metadata": {},
   "outputs": [],
   "source": [
    "# break statement. "
   ]
  },
  {
   "cell_type": "code",
   "execution_count": 17,
   "id": "249c6cc0-63d8-419b-a508-af2850800030",
   "metadata": {},
   "outputs": [
    {
     "name": "stdout",
     "output_type": "stream",
     "text": [
      "1 2 3 4 5 "
     ]
    }
   ],
   "source": [
    "for i in range(1,11):\n",
    "    print(i, end =\" \")\n",
    "    if(i == 5):\n",
    "        break"
   ]
  },
  {
   "cell_type": "code",
   "execution_count": 18,
   "id": "5b7c27a8-5f28-44fd-b02a-71926004d00a",
   "metadata": {},
   "outputs": [],
   "source": [
    "# continue statment. "
   ]
  },
  {
   "cell_type": "code",
   "execution_count": 20,
   "id": "74e10281-93eb-4429-8993-32767341743a",
   "metadata": {},
   "outputs": [
    {
     "name": "stdout",
     "output_type": "stream",
     "text": [
      "1 2 3 4 6 7 8 9 10 "
     ]
    }
   ],
   "source": [
    "for i in range(1,11):\n",
    "    if(i==5):\n",
    "        continue\n",
    "    print(i, end = \" \")"
   ]
  },
  {
   "cell_type": "code",
   "execution_count": null,
   "id": "02c24bec-8334-442d-acab-af2085b92ac4",
   "metadata": {},
   "outputs": [],
   "source": []
  }
 ],
 "metadata": {
  "kernelspec": {
   "display_name": "Python [conda env:base] *",
   "language": "python",
   "name": "conda-base-py"
  },
  "language_info": {
   "codemirror_mode": {
    "name": "ipython",
    "version": 3
   },
   "file_extension": ".py",
   "mimetype": "text/x-python",
   "name": "python",
   "nbconvert_exporter": "python",
   "pygments_lexer": "ipython3",
   "version": "3.13.5"
  }
 },
 "nbformat": 4,
 "nbformat_minor": 5
}
